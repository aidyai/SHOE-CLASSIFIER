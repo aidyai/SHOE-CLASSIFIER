{
  "nbformat": 4,
  "nbformat_minor": 0,
  "metadata": {
    "colab": {
      "provenance": [],
      "authorship_tag": "ABX9TyMX5mjejSq7mM3FgF0CTJLE",
      "include_colab_link": true
    },
    "kernelspec": {
      "name": "python3",
      "display_name": "Python 3"
    },
    "language_info": {
      "name": "python"
    }
  },
  "cells": [
    {
      "cell_type": "markdown",
      "metadata": {
        "id": "view-in-github",
        "colab_type": "text"
      },
      "source": [
        "<a href=\"https://colab.research.google.com/github/aidyai/SHOE-CLASSIFIER/blob/main/algorithm/data_source/SHOE_SCRAPPING.ipynb\" target=\"_parent\"><img src=\"https://colab.research.google.com/assets/colab-badge.svg\" alt=\"Open In Colab\"/></a>"
      ]
    },
    {
      "cell_type": "code",
      "source": [
        "from google.colab import drive\n",
        "drive.mount(\"/content/drive\")"
      ],
      "metadata": {
        "colab": {
          "base_uri": "https://localhost:8080/"
        },
        "id": "73jZL-RsBXwH",
        "outputId": "55ed123d-ca86-4bab-e1c3-a5a21a20b1d5"
      },
      "execution_count": null,
      "outputs": [
        {
          "output_type": "stream",
          "name": "stdout",
          "text": [
            "Mounted at /content/drive\n"
          ]
        }
      ]
    },
    {
      "cell_type": "code",
      "source": [
        "import urllib.request\n",
        "\n",
        "list_images = [\n",
        "    \"https://scontent-mia3-1.cdninstagram.com/v/t51.2885-15/272183172_145676704514353_4607015741496185780_n.jpg?stp=dst-jpg_e35&_nc_ht=scontent-mia3-1.cdninstagram.com&_nc_cat=101&_nc_ohc=n07eyA8e1bgAX_MeEYm&edm=AABBvjUBAAAA&ccb=7-5&oh=00_AfCDuX148tb6_sBO4bS1t8HKjMwxkAZ-rBH1SB36bYL6gw&oe=64568136&_nc_sid=83d603\",\n",
        "    \"https://instagram.fjpa11-1.fna.fbcdn.net/v/t51.2885-15/272607616_635328964235275_8009429459591604703_n.jpg?stp=dst-jpg_e35&_nc_ht=instagram.fjpa11-1.fna.fbcdn.net&_nc_cat=107&_nc_ohc=CqhAtE0UmL8AX-s5JwB&edm=AABBvjUBAAAA&ccb=7-5&oh=00_AfAUDNc7zIV00ZIi2aO-ripbY_Be9IEB6DMcjnuZUtAhxA&oe=6455B206&_nc_sid=83d603\",\n",
        "]\n",
        "\n",
        "for i, url in enumerate(list_images):\n",
        "    extension = url.split(\".\")[-1].split(\"?\")[0].lower()  # get file extension from URL\n",
        "    filename = f\"dressingSHOE_{i+1}.jpg\"  # construct new file name based on index\n",
        "    urllib.request.urlretrieve(url, filename)  # download and save file\n"
      ],
      "metadata": {
        "id": "fsxaktKSsrAx"
      },
      "execution_count": 6,
      "outputs": []
    },
    {
      "cell_type": "code",
      "source": [],
      "metadata": {
        "id": "xv9vmz9Xt132"
      },
      "execution_count": null,
      "outputs": []
    }
  ]
}